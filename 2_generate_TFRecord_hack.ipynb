{
 "cells": [
  {
   "cell_type": "code",
   "execution_count": 2,
   "metadata": {},
   "outputs": [],
   "source": [
    "import os\n",
    "import io\n",
    "import glob\n",
    "import pandas as pd\n",
    "import numpy as np\n",
    "import tensorflow as tf # ignore horrendous TF1.XX dep errors\n",
    "\n",
    "from PIL import Image\n",
    "from object_detection.utils import dataset_util\n",
    "from collections import namedtuple, OrderedDict"
   ]
  },
  {
   "cell_type": "code",
   "execution_count": 3,
   "metadata": {},
   "outputs": [],
   "source": [
    "# local path to github repository, change as you see fit\n",
    "WORKING_DIR = '/Users/ebyler/gh/dice_detection'"
   ]
  },
  {
   "cell_type": "markdown",
   "metadata": {},
   "source": [
    "# Generating TFRecord files\n",
    "\n",
    "NOTE: The following code is from Dat Tran's raccoon object identification project (https://github.com/datitran/raccoon_dataset) `generate_tfrecord.py`, which was written for tensorflow 1.XX. I had originally intended to do this project in tensorflow 2.0, and wanted to translate Dat Tran's code to work for tf 2.0.\n",
    "\n",
    "Spoiler alert - you can! But this may not be a rabbit hole you want to go down. At the time of this project, none of the extensive object detection scripts are tf 2.0 compatible, and it will probably cause you some serious headaches down the line. An upgrade will probably happen SOON$^{TM}$, but until then, I have reverted back to tf 1.14.\n",
    "(Read more about it here: https://github.com/tensorflow/models/issues/6423)\n",
    "\n",
    "\n",
    "### TF 2.0 changes:\n",
    "- Remove flag code (I was too lazy to try and add new flag system, using e.g. abd).\n",
    "- L32: replace `tf.file.GFile` with `tf.compat.v1.gfile.GFile`.\n",
    "- In writing stage: replace `tf.python_io` with `tf.compat.v1.python_io`."
   ]
  },
  {
   "cell_type": "code",
   "execution_count": 4,
   "metadata": {},
   "outputs": [],
   "source": [
    "# Replace this with label map\n",
    "# Note -- per TFRecord documentation,\n",
    "# the label IDs must start with id = 1, not 0!\n",
    "\n",
    "# also note -- even though I have numerical classes,\n",
    "# the TFRecord code expects strings. \n",
    "\n",
    "def class_text_to_int(row_label):\n",
    "    if row_label == 'one':\n",
    "        return 1\n",
    "    elif row_label == 'two':\n",
    "        return 2\n",
    "    elif row_label == 'three':\n",
    "        return 3\n",
    "    elif row_label == 'four':\n",
    "        return 4\n",
    "    elif row_label == 'five':\n",
    "        return 5\n",
    "    elif row_label == 'six':\n",
    "        return 6\n",
    "    else:\n",
    "        None\n",
    "\n",
    "\n",
    "def split(df, group):\n",
    "    data = namedtuple('data', ['filename', 'object'])\n",
    "    gb = df.groupby(group)\n",
    "    return [data(filename, gb.get_group(x)) for filename, x in zip(gb.groups.keys(), gb.groups)]\n",
    "\n",
    "\n",
    "def create_tf_example(group, path):\n",
    "    with tf.gfile.GFile(os.path.join(path, '{}'.format(group.filename)), 'rb') as fid:\n",
    "        encoded_jpg = fid.read()\n",
    "    encoded_jpg_io = io.BytesIO(encoded_jpg)\n",
    "    image = Image.open(encoded_jpg_io)\n",
    "    width, height = image.size\n",
    "\n",
    "    filename = group.filename.encode('utf8')\n",
    "    image_format = b'jpg'\n",
    "    xmins = []\n",
    "    xmaxs = []\n",
    "    ymins = []\n",
    "    ymaxs = []\n",
    "    classes_text = []\n",
    "    classes = []\n",
    "\n",
    "    for index, row in group.object.iterrows():\n",
    "        xmins.append(row['xmin'] / width)\n",
    "        xmaxs.append(row['xmax'] / width)\n",
    "        ymins.append(row['ymin'] / height)\n",
    "        ymaxs.append(row['ymax'] / height)\n",
    "        classes_text.append(row['class'].encode('utf8'))\n",
    "        classes.append(class_text_to_int(row['class']))\n",
    "\n",
    "    tf_example = tf.train.Example(features=tf.train.Features(feature={\n",
    "        'image/height': dataset_util.int64_feature(height),\n",
    "        'image/width': dataset_util.int64_feature(width),\n",
    "        'image/filename': dataset_util.bytes_feature(filename),\n",
    "        'image/source_id': dataset_util.bytes_feature(filename),\n",
    "        'image/encoded': dataset_util.bytes_feature(encoded_jpg),\n",
    "        'image/format': dataset_util.bytes_feature(image_format),\n",
    "        'image/object/bbox/xmin': dataset_util.float_list_feature(xmins),\n",
    "        'image/object/bbox/xmax': dataset_util.float_list_feature(xmaxs),\n",
    "        'image/object/bbox/ymin': dataset_util.float_list_feature(ymins),\n",
    "        'image/object/bbox/ymax': dataset_util.float_list_feature(ymaxs),\n",
    "        'image/object/class/text': dataset_util.bytes_list_feature(classes_text),\n",
    "        'image/object/class/label': dataset_util.int64_list_feature(classes),\n",
    "    }))\n",
    "    return tf_example\n"
   ]
  },
  {
   "cell_type": "markdown",
   "metadata": {},
   "source": [
    "# Write training TFRecord"
   ]
  },
  {
   "cell_type": "code",
   "execution_count": 5,
   "metadata": {},
   "outputs": [],
   "source": [
    "csv_input = WORKING_DIR+'/data/ImageSets/Main/train_labels.csv'\n",
    "image_dir = WORKING_DIR+'/data/JPEGImages'\n",
    "\n",
    "SAVE_DIR = WORKING_DIR+'/tfrecords'\n",
    "output_path = SAVE_DIR+'/train.record'"
   ]
  },
  {
   "cell_type": "code",
   "execution_count": 6,
   "metadata": {},
   "outputs": [
    {
     "name": "stdout",
     "output_type": "stream",
     "text": [
      "Successfully created the TFRecords: /Users/ebyler/gh/dice_detection/tfrecords/train.record\n"
     ]
    }
   ],
   "source": [
    "# the following line needs to change for TF 2.0 \n",
    "# >> tf.compat.v1.python_io\n",
    "writer = tf.python_io.TFRecordWriter(output_path)\n",
    "path = os.path.join(image_dir)\n",
    "examples = pd.read_csv(csv_input)\n",
    "grouped = split(examples, 'filename')\n",
    "for group in grouped:\n",
    "    tf_example = create_tf_example(group, path)\n",
    "    writer.write(tf_example.SerializeToString())\n",
    "    \n",
    "writer.close()\n",
    "output_path = os.path.join(os.getcwd(), output_path)\n",
    "print('Successfully created the TFRecords: {}'.format(output_path))"
   ]
  },
  {
   "cell_type": "markdown",
   "metadata": {},
   "source": [
    "# Write test TFRecord"
   ]
  },
  {
   "cell_type": "code",
   "execution_count": 7,
   "metadata": {},
   "outputs": [],
   "source": [
    "csv_input = WORKING_DIR+'/data/ImageSets/Main/test_labels.csv'\n",
    "image_dir = WORKING_DIR+'/data/JPEGImages'\n",
    "\n",
    "SAVE_DIR = WORKING_DIR+'/tfrecords'\n",
    "output_path = SAVE_DIR+'/test.record'"
   ]
  },
  {
   "cell_type": "code",
   "execution_count": 8,
   "metadata": {},
   "outputs": [
    {
     "name": "stdout",
     "output_type": "stream",
     "text": [
      "Successfully created the TFRecords: /Users/ebyler/gh/dice_detection/tfrecords/test.record\n"
     ]
    }
   ],
   "source": [
    "writer = tf.python_io.TFRecordWriter(output_path)\n",
    "path = os.path.join(image_dir)\n",
    "examples = pd.read_csv(csv_input)\n",
    "grouped = split(examples, 'filename')\n",
    "for group in grouped:\n",
    "    tf_example = create_tf_example(group, path)\n",
    "    writer.write(tf_example.SerializeToString())\n",
    "    \n",
    "writer.close()\n",
    "output_path = os.path.join(os.getcwd(), output_path)\n",
    "print('Successfully created the TFRecords: {}'.format(output_path))"
   ]
  },
  {
   "cell_type": "code",
   "execution_count": null,
   "metadata": {},
   "outputs": [],
   "source": []
  }
 ],
 "metadata": {
  "kernelspec": {
   "display_name": "Python 3",
   "language": "python",
   "name": "python3"
  },
  "language_info": {
   "codemirror_mode": {
    "name": "ipython",
    "version": 3
   },
   "file_extension": ".py",
   "mimetype": "text/x-python",
   "name": "python",
   "nbconvert_exporter": "python",
   "pygments_lexer": "ipython3",
   "version": "3.6.3"
  }
 },
 "nbformat": 4,
 "nbformat_minor": 2
}
